{
  "nbformat": 4,
  "nbformat_minor": 0,
  "metadata": {
    "colab": {
      "provenance": []
    },
    "kernelspec": {
      "name": "python3",
      "display_name": "Python 3"
    },
    "language_info": {
      "name": "python"
    }
  },
  "cells": [
    {
      "cell_type": "code",
      "execution_count": null,
      "metadata": {
        "id": "bWCkFYtGyXRF"
      },
      "outputs": [],
      "source": [
        "fruits=['apple','banana','chery']"
      ]
    },
    {
      "cell_type": "code",
      "source": [
        "print(fruits[1])"
      ],
      "metadata": {
        "colab": {
          "base_uri": "https://localhost:8080/"
        },
        "id": "lTWRi2jm_kUM",
        "outputId": "fa1f9158-1952-4925-85c1-118f034b9507"
      },
      "execution_count": null,
      "outputs": [
        {
          "output_type": "stream",
          "name": "stdout",
          "text": [
            "banana\n"
          ]
        }
      ]
    },
    {
      "cell_type": "code",
      "source": [
        "fruits[0]=\"kiwi\""
      ],
      "metadata": {
        "id": "MAK-xr9u_w8X"
      },
      "execution_count": null,
      "outputs": []
    },
    {
      "cell_type": "code",
      "source": [
        "fruits"
      ],
      "metadata": {
        "colab": {
          "base_uri": "https://localhost:8080/"
        },
        "id": "PZzBvGu7_-4i",
        "outputId": "df3e08bf-63d6-408a-fb7b-b1bbd6846481"
      },
      "execution_count": null,
      "outputs": [
        {
          "output_type": "execute_result",
          "data": {
            "text/plain": [
              "['kiwi', 'banana', 'chery']"
            ]
          },
          "metadata": {},
          "execution_count": 5
        }
      ]
    },
    {
      "cell_type": "code",
      "source": [
        "fruits.insert(1,\"lemon\")"
      ],
      "metadata": {
        "id": "L7tmMx-oBEhv"
      },
      "execution_count": null,
      "outputs": []
    },
    {
      "cell_type": "code",
      "source": [
        "fruits"
      ],
      "metadata": {
        "id": "vKIPrPEOBPga",
        "outputId": "a8f291dc-65f4-444d-ca5d-aac51d45278d",
        "colab": {
          "base_uri": "https://localhost:8080/"
        }
      },
      "execution_count": null,
      "outputs": [
        {
          "output_type": "execute_result",
          "data": {
            "text/plain": [
              "['kiwi', 'lemon', 'banana', 'chery']"
            ]
          },
          "metadata": {},
          "execution_count": 7
        }
      ]
    },
    {
      "cell_type": "code",
      "source": [],
      "metadata": {
        "id": "3T0SuLq4BQlT"
      },
      "execution_count": null,
      "outputs": []
    }
  ]
}